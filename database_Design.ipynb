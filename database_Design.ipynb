{
 "cells": [
  {
   "cell_type": "code",
   "execution_count": 1,
   "id": "9d860b99",
   "metadata": {},
   "outputs": [],
   "source": [
    "import pandas as pd\n",
    "import numpy as np\n",
    "from datetime import date,timedelta\n",
    "import random"
   ]
  },
  {
   "cell_type": "code",
   "execution_count": 2,
   "id": "2335007e",
   "metadata": {},
   "outputs": [
    {
     "data": {
      "text/html": [
       "<div>\n",
       "<style scoped>\n",
       "    .dataframe tbody tr th:only-of-type {\n",
       "        vertical-align: middle;\n",
       "    }\n",
       "\n",
       "    .dataframe tbody tr th {\n",
       "        vertical-align: top;\n",
       "    }\n",
       "\n",
       "    .dataframe thead th {\n",
       "        text-align: right;\n",
       "    }\n",
       "</style>\n",
       "<table border=\"1\" class=\"dataframe\">\n",
       "  <thead>\n",
       "    <tr style=\"text-align: right;\">\n",
       "      <th></th>\n",
       "      <th>_id</th>\n",
       "      <th>Make</th>\n",
       "      <th>Model</th>\n",
       "      <th>Variant</th>\n",
       "      <th>Ex-Showroom_Price</th>\n",
       "      <th>Displacement</th>\n",
       "      <th>Cylinders</th>\n",
       "      <th>Valves_Per_Cylinder</th>\n",
       "      <th>Drivetrain</th>\n",
       "      <th>Cylinder_Configuration</th>\n",
       "      <th>...</th>\n",
       "      <th>Power_Seats</th>\n",
       "      <th>Ambient_Lightning</th>\n",
       "      <th>Heads-Up_Display</th>\n",
       "      <th>Welcome_Lights</th>\n",
       "      <th>Heated_Seats</th>\n",
       "      <th>USB_Ports</th>\n",
       "      <th>Engine_Type</th>\n",
       "      <th>Electric_Range</th>\n",
       "      <th>Battery</th>\n",
       "      <th>Launch_Date</th>\n",
       "    </tr>\n",
       "  </thead>\n",
       "  <tbody>\n",
       "    <tr>\n",
       "      <th>0</th>\n",
       "      <td>6285d2947b880c3221d741b9</td>\n",
       "      <td>Tata</td>\n",
       "      <td>Nano Genx</td>\n",
       "      <td>Xt</td>\n",
       "      <td>292667</td>\n",
       "      <td>624.0</td>\n",
       "      <td>2.0</td>\n",
       "      <td>2.0</td>\n",
       "      <td>RWD (Rear Wheel Drive)</td>\n",
       "      <td>In-line</td>\n",
       "      <td>...</td>\n",
       "      <td>NaN</td>\n",
       "      <td>NaN</td>\n",
       "      <td>NaN</td>\n",
       "      <td>NaN</td>\n",
       "      <td>NaN</td>\n",
       "      <td>NaN</td>\n",
       "      <td>NaN</td>\n",
       "      <td>NaN</td>\n",
       "      <td>NaN</td>\n",
       "      <td>2021-05-12</td>\n",
       "    </tr>\n",
       "    <tr>\n",
       "      <th>1</th>\n",
       "      <td>6285d2947b880c3221d741ba</td>\n",
       "      <td>Tata</td>\n",
       "      <td>Nano Genx</td>\n",
       "      <td>Xe</td>\n",
       "      <td>236447</td>\n",
       "      <td>624.0</td>\n",
       "      <td>2.0</td>\n",
       "      <td>2.0</td>\n",
       "      <td>RWD (Rear Wheel Drive)</td>\n",
       "      <td>In-line</td>\n",
       "      <td>...</td>\n",
       "      <td>NaN</td>\n",
       "      <td>NaN</td>\n",
       "      <td>NaN</td>\n",
       "      <td>NaN</td>\n",
       "      <td>NaN</td>\n",
       "      <td>NaN</td>\n",
       "      <td>NaN</td>\n",
       "      <td>NaN</td>\n",
       "      <td>NaN</td>\n",
       "      <td>2013-09-13</td>\n",
       "    </tr>\n",
       "    <tr>\n",
       "      <th>2</th>\n",
       "      <td>6285d2947b880c3221d741bb</td>\n",
       "      <td>Tata</td>\n",
       "      <td>Nano Genx</td>\n",
       "      <td>Emax Xm</td>\n",
       "      <td>296661</td>\n",
       "      <td>624.0</td>\n",
       "      <td>2.0</td>\n",
       "      <td>2.0</td>\n",
       "      <td>RWD (Rear Wheel Drive)</td>\n",
       "      <td>In-line</td>\n",
       "      <td>...</td>\n",
       "      <td>NaN</td>\n",
       "      <td>NaN</td>\n",
       "      <td>NaN</td>\n",
       "      <td>NaN</td>\n",
       "      <td>NaN</td>\n",
       "      <td>NaN</td>\n",
       "      <td>NaN</td>\n",
       "      <td>NaN</td>\n",
       "      <td>NaN</td>\n",
       "      <td>2010-07-31</td>\n",
       "    </tr>\n",
       "    <tr>\n",
       "      <th>3</th>\n",
       "      <td>6285d2947b880c3221d741bc</td>\n",
       "      <td>Tata</td>\n",
       "      <td>Nano Genx</td>\n",
       "      <td>Xta</td>\n",
       "      <td>334768</td>\n",
       "      <td>624.0</td>\n",
       "      <td>2.0</td>\n",
       "      <td>2.0</td>\n",
       "      <td>RWD (Rear Wheel Drive)</td>\n",
       "      <td>In-line</td>\n",
       "      <td>...</td>\n",
       "      <td>NaN</td>\n",
       "      <td>NaN</td>\n",
       "      <td>NaN</td>\n",
       "      <td>NaN</td>\n",
       "      <td>NaN</td>\n",
       "      <td>NaN</td>\n",
       "      <td>NaN</td>\n",
       "      <td>NaN</td>\n",
       "      <td>NaN</td>\n",
       "      <td>2011-01-25</td>\n",
       "    </tr>\n",
       "    <tr>\n",
       "      <th>4</th>\n",
       "      <td>6285d2947b880c3221d741bd</td>\n",
       "      <td>Tata</td>\n",
       "      <td>Nano Genx</td>\n",
       "      <td>Xm</td>\n",
       "      <td>272223</td>\n",
       "      <td>624.0</td>\n",
       "      <td>2.0</td>\n",
       "      <td>2.0</td>\n",
       "      <td>RWD (Rear Wheel Drive)</td>\n",
       "      <td>In-line</td>\n",
       "      <td>...</td>\n",
       "      <td>NaN</td>\n",
       "      <td>NaN</td>\n",
       "      <td>NaN</td>\n",
       "      <td>NaN</td>\n",
       "      <td>NaN</td>\n",
       "      <td>NaN</td>\n",
       "      <td>NaN</td>\n",
       "      <td>NaN</td>\n",
       "      <td>NaN</td>\n",
       "      <td>2015-03-23</td>\n",
       "    </tr>\n",
       "  </tbody>\n",
       "</table>\n",
       "<p>5 rows × 142 columns</p>\n",
       "</div>"
      ],
      "text/plain": [
       "                        _id  Make      Model  Variant  Ex-Showroom_Price  \\\n",
       "0  6285d2947b880c3221d741b9  Tata  Nano Genx       Xt             292667   \n",
       "1  6285d2947b880c3221d741ba  Tata  Nano Genx       Xe             236447   \n",
       "2  6285d2947b880c3221d741bb  Tata  Nano Genx  Emax Xm             296661   \n",
       "3  6285d2947b880c3221d741bc  Tata  Nano Genx      Xta             334768   \n",
       "4  6285d2947b880c3221d741bd  Tata  Nano Genx       Xm             272223   \n",
       "\n",
       "   Displacement  Cylinders  Valves_Per_Cylinder              Drivetrain  \\\n",
       "0         624.0        2.0                  2.0  RWD (Rear Wheel Drive)   \n",
       "1         624.0        2.0                  2.0  RWD (Rear Wheel Drive)   \n",
       "2         624.0        2.0                  2.0  RWD (Rear Wheel Drive)   \n",
       "3         624.0        2.0                  2.0  RWD (Rear Wheel Drive)   \n",
       "4         624.0        2.0                  2.0  RWD (Rear Wheel Drive)   \n",
       "\n",
       "  Cylinder_Configuration  ... Power_Seats Ambient_Lightning Heads-Up_Display  \\\n",
       "0                In-line  ...         NaN               NaN              NaN   \n",
       "1                In-line  ...         NaN               NaN              NaN   \n",
       "2                In-line  ...         NaN               NaN              NaN   \n",
       "3                In-line  ...         NaN               NaN              NaN   \n",
       "4                In-line  ...         NaN               NaN              NaN   \n",
       "\n",
       "   Welcome_Lights Heated_Seats  USB_Ports  Engine_Type  Electric_Range  \\\n",
       "0             NaN          NaN        NaN          NaN             NaN   \n",
       "1             NaN          NaN        NaN          NaN             NaN   \n",
       "2             NaN          NaN        NaN          NaN             NaN   \n",
       "3             NaN          NaN        NaN          NaN             NaN   \n",
       "4             NaN          NaN        NaN          NaN             NaN   \n",
       "\n",
       "  Battery  Launch_Date  \n",
       "0     NaN   2021-05-12  \n",
       "1     NaN   2013-09-13  \n",
       "2     NaN   2010-07-31  \n",
       "3     NaN   2011-01-25  \n",
       "4     NaN   2015-03-23  \n",
       "\n",
       "[5 rows x 142 columns]"
      ]
     },
     "execution_count": 2,
     "metadata": {},
     "output_type": "execute_result"
    }
   ],
   "source": [
    "car_dataset = pd.read_csv(\"cars_final.csv\")\n",
    "car_dataset.head()"
   ]
  },
  {
   "cell_type": "code",
   "execution_count": 10,
   "id": "b766808d",
   "metadata": {},
   "outputs": [
    {
     "data": {
      "text/html": [
       "<div>\n",
       "<style scoped>\n",
       "    .dataframe tbody tr th:only-of-type {\n",
       "        vertical-align: middle;\n",
       "    }\n",
       "\n",
       "    .dataframe tbody tr th {\n",
       "        vertical-align: top;\n",
       "    }\n",
       "\n",
       "    .dataframe thead th {\n",
       "        text-align: right;\n",
       "    }\n",
       "</style>\n",
       "<table border=\"1\" class=\"dataframe\">\n",
       "  <thead>\n",
       "    <tr style=\"text-align: right;\">\n",
       "      <th></th>\n",
       "      <th>_id</th>\n",
       "      <th>Gender</th>\n",
       "      <th>Age</th>\n",
       "      <th>SpendingScore</th>\n",
       "      <th>FamilySize</th>\n",
       "    </tr>\n",
       "  </thead>\n",
       "  <tbody>\n",
       "    <tr>\n",
       "      <th>0</th>\n",
       "      <td>6283d2b4d56796d953b303b5</td>\n",
       "      <td>Male</td>\n",
       "      <td>22</td>\n",
       "      <td>Low</td>\n",
       "      <td>4.0</td>\n",
       "    </tr>\n",
       "    <tr>\n",
       "      <th>1</th>\n",
       "      <td>6283d2b4d56796d953b303b6</td>\n",
       "      <td>Female</td>\n",
       "      <td>38</td>\n",
       "      <td>Average</td>\n",
       "      <td>3.0</td>\n",
       "    </tr>\n",
       "    <tr>\n",
       "      <th>2</th>\n",
       "      <td>6283d2b4d56796d953b303b7</td>\n",
       "      <td>Female</td>\n",
       "      <td>67</td>\n",
       "      <td>Low</td>\n",
       "      <td>1.0</td>\n",
       "    </tr>\n",
       "    <tr>\n",
       "      <th>3</th>\n",
       "      <td>6283d2b4d56796d953b303b8</td>\n",
       "      <td>Male</td>\n",
       "      <td>67</td>\n",
       "      <td>High</td>\n",
       "      <td>2.0</td>\n",
       "    </tr>\n",
       "    <tr>\n",
       "      <th>4</th>\n",
       "      <td>6283d2b4d56796d953b303b9</td>\n",
       "      <td>Female</td>\n",
       "      <td>40</td>\n",
       "      <td>High</td>\n",
       "      <td>6.0</td>\n",
       "    </tr>\n",
       "  </tbody>\n",
       "</table>\n",
       "</div>"
      ],
      "text/plain": [
       "                        _id  Gender  Age SpendingScore  FamilySize\n",
       "0  6283d2b4d56796d953b303b5    Male   22           Low         4.0\n",
       "1  6283d2b4d56796d953b303b6  Female   38       Average         3.0\n",
       "2  6283d2b4d56796d953b303b7  Female   67           Low         1.0\n",
       "3  6283d2b4d56796d953b303b8    Male   67          High         2.0\n",
       "4  6283d2b4d56796d953b303b9  Female   40          High         6.0"
      ]
     },
     "execution_count": 10,
     "metadata": {},
     "output_type": "execute_result"
    }
   ],
   "source": [
    "customer_dataset = pd.read_csv(\"customer.csv\")\n",
    "customer_dataset.drop(\"indices\",axis=1,inplace=True)\n",
    "customer_dataset.head()"
   ]
  },
  {
   "cell_type": "code",
   "execution_count": 4,
   "id": "6e5a9990",
   "metadata": {},
   "outputs": [
    {
     "name": "stdout",
     "output_type": "stream",
     "text": [
      "['Hatchback' 'MPV' 'MUV' 'SUV' 'Sedan' 'Crossover' nan 'Coupe'\n",
      " 'Convertible' 'Sports, Hatchback' 'Sedan, Coupe' 'Sports'\n",
      " 'Crossover, SUV' 'SUV, Crossover' 'Sedan, Crossover'\n",
      " 'Sports, Convertible' 'Pick-up' 'Coupe, Convertible']\n",
      "['Petrol' 'CNG' 'Diesel' 'CNG + Petrol' 'Hybrid' 'Electric']\n",
      "['Manual' 'Automatic' 'AMT' 'CVT' 'DCT' nan]\n",
      "['Tata' 'Datsun' 'Renault' 'Maruti Suzuki' 'Hyundai' 'Premier' 'Toyota'\n",
      " 'Nissan' 'Volkswagen' 'Ford' 'Mahindra' 'Fiat' 'Honda' 'Jeep' 'Isuzu'\n",
      " 'Skoda' 'Audi' 'Mercedes-Benz' 'Dc' 'Mini' 'Volvo' 'Jaguar' 'Bmw'\n",
      " 'Land Rover' 'Porsche' 'Lexus' 'Maserati' 'Lamborghini' 'Bentley'\n",
      " 'Ferrari' 'Aston Martin' 'Rolls-Royce' 'Bugatti' 'Bajaj' 'Icml' 'Force'\n",
      " 'Mg' 'Kia' 'Land Rover Rover' 'Mitsubishi']\n"
     ]
    }
   ],
   "source": [
    "body_type = car_dataset[\"Body_Type\"].unique()\n",
    "fuel_type = car_dataset[\"Fuel_Type\"].unique()\n",
    "transmission_type = car_dataset[\"Type\"].unique()\n",
    "company_names = car_dataset[\"Make\"].unique()\n",
    "print(body_type)\n",
    "print(fuel_type)\n",
    "print(transmission_type)\n",
    "print(company_names)"
   ]
  },
  {
   "cell_type": "code",
   "execution_count": 5,
   "id": "5518cf76",
   "metadata": {},
   "outputs": [
    {
     "data": {
      "text/plain": [
       "40"
      ]
     },
     "execution_count": 5,
     "metadata": {},
     "output_type": "execute_result"
    }
   ],
   "source": [
    "car_dataset[\"Make\"].nunique()"
   ]
  },
  {
   "cell_type": "code",
   "execution_count": 6,
   "id": "3c656dbf",
   "metadata": {},
   "outputs": [
    {
     "data": {
      "text/plain": [
       "<AxesSubplot:xlabel='Make'>"
      ]
     },
     "execution_count": 6,
     "metadata": {},
     "output_type": "execute_result"
    },
    {
     "data": {
      "image/png": "[encoded data removed]",
      "text/plain": [
       "<Figure size 432x288 with 1 Axes>"
      ]
     },
     "metadata": {
      "needs_background": "light"
     },
     "output_type": "display_data"
    }
   ],
   "source": [
    "car_dataset.groupby(\"Make\")[\"Ex-Showroom_Price\"].mean().plot(kind=\"bar\")"
   ]
  },
  {
   "cell_type": "code",
   "execution_count": 7,
   "id": "d4464471",
   "metadata": {},
   "outputs": [
    {
     "name": "stdout",
     "output_type": "stream",
     "text": [
      "236447 212155397\n"
     ]
    }
   ],
   "source": [
    "x = car_dataset[\"Ex-Showroom_Price\"].min()\n",
    "y = car_dataset[\"Ex-Showroom_Price\"].max()\n",
    "print(x,y)"
   ]
  },
  {
   "cell_type": "code",
   "execution_count": 8,
   "id": "fa4819b8",
   "metadata": {},
   "outputs": [
    {
     "name": "stdout",
     "output_type": "stream",
     "text": [
      "236447 2355635.5\n",
      "2355636.5 23547530.5\n",
      "23547531.5 235466481.5\n"
     ]
    }
   ],
   "source": [
    "difference = (y-x)/100\n",
    "low_min = x\n",
    "low_max = x + difference-1\n",
    "mid_min = low_max + 1\n",
    "mid_max = mid_min + (difference*10) -1\n",
    "high_min = mid_max + 1\n",
    "high_max = high_min + difference*100\n",
    "\n",
    "#print\n",
    "print(low_min,low_max)\n",
    "print(mid_min,mid_max)\n",
    "print(high_min,high_max)"
   ]
  },
  {
   "cell_type": "code",
   "execution_count": 11,
   "id": "90a95526",
   "metadata": {},
   "outputs": [
    {
     "name": "stdout",
     "output_type": "stream",
     "text": [
      "for car dataset:  2.0 16.0\n",
      "for customer dataset:  1.0 9.0\n"
     ]
    }
   ],
   "source": [
    "print(\"for car dataset: \",car_dataset[\"Seating_Capacity\"].min(),car_dataset[\"Seating_Capacity\"].max())\n",
    "print(\"for customer dataset: \",customer_dataset[\"FamilySize\"].min(),customer_dataset[\"FamilySize\"].max())"
   ]
  },
  {
   "cell_type": "code",
   "execution_count": 12,
   "id": "a421a032",
   "metadata": {},
   "outputs": [
    {
     "name": "stdout",
     "output_type": "stream",
     "text": [
      "for car dataset:  [ 4.  5.  7. nan  2.  6.  9.  8. 16.]\n",
      "for customer dataset:  [ 4.  3.  1.  2.  6. nan  5.  8.  7.  9.]\n",
      "['Low' 'Average' 'High']\n"
     ]
    }
   ],
   "source": [
    "print(\"for car dataset: \",car_dataset[\"Seating_Capacity\"].unique())\n",
    "print(\"for customer dataset: \",customer_dataset[\"FamilySize\"].unique())\n",
    "print(customer_dataset[\"SpendingScore\"].unique())"
   ]
  },
  {
   "cell_type": "code",
   "execution_count": 13,
   "id": "0c633242",
   "metadata": {},
   "outputs": [
    {
     "data": {
      "text/plain": [
       "10695"
      ]
     },
     "execution_count": 13,
     "metadata": {},
     "output_type": "execute_result"
    }
   ],
   "source": [
    "len(customer_dataset)"
   ]
  },
  {
   "cell_type": "code",
   "execution_count": 14,
   "id": "81a01460",
   "metadata": {},
   "outputs": [
    {
     "data": {
      "text/html": [
       "<div>\n",
       "<style scoped>\n",
       "    .dataframe tbody tr th:only-of-type {\n",
       "        vertical-align: middle;\n",
       "    }\n",
       "\n",
       "    .dataframe tbody tr th {\n",
       "        vertical-align: top;\n",
       "    }\n",
       "\n",
       "    .dataframe thead th {\n",
       "        text-align: right;\n",
       "    }\n",
       "</style>\n",
       "<table border=\"1\" class=\"dataframe\">\n",
       "  <thead>\n",
       "    <tr style=\"text-align: right;\">\n",
       "      <th></th>\n",
       "      <th>_id</th>\n",
       "      <th>Gender</th>\n",
       "      <th>Age</th>\n",
       "      <th>SpendingScore</th>\n",
       "      <th>FamilySize</th>\n",
       "    </tr>\n",
       "  </thead>\n",
       "  <tbody>\n",
       "    <tr>\n",
       "      <th>0</th>\n",
       "      <td>6283d2b4d56796d953b303b5</td>\n",
       "      <td>Male</td>\n",
       "      <td>22</td>\n",
       "      <td>Low</td>\n",
       "      <td>4.0</td>\n",
       "    </tr>\n",
       "    <tr>\n",
       "      <th>1</th>\n",
       "      <td>6283d2b4d56796d953b303b6</td>\n",
       "      <td>Female</td>\n",
       "      <td>38</td>\n",
       "      <td>Average</td>\n",
       "      <td>3.0</td>\n",
       "    </tr>\n",
       "    <tr>\n",
       "      <th>2</th>\n",
       "      <td>6283d2b4d56796d953b303b7</td>\n",
       "      <td>Female</td>\n",
       "      <td>67</td>\n",
       "      <td>Low</td>\n",
       "      <td>1.0</td>\n",
       "    </tr>\n",
       "    <tr>\n",
       "      <th>3</th>\n",
       "      <td>6283d2b4d56796d953b303b8</td>\n",
       "      <td>Male</td>\n",
       "      <td>67</td>\n",
       "      <td>High</td>\n",
       "      <td>2.0</td>\n",
       "    </tr>\n",
       "    <tr>\n",
       "      <th>4</th>\n",
       "      <td>6283d2b4d56796d953b303b9</td>\n",
       "      <td>Female</td>\n",
       "      <td>40</td>\n",
       "      <td>High</td>\n",
       "      <td>6.0</td>\n",
       "    </tr>\n",
       "  </tbody>\n",
       "</table>\n",
       "</div>"
      ],
      "text/plain": [
       "                        _id  Gender  Age SpendingScore  FamilySize\n",
       "0  6283d2b4d56796d953b303b5    Male   22           Low         4.0\n",
       "1  6283d2b4d56796d953b303b6  Female   38       Average         3.0\n",
       "2  6283d2b4d56796d953b303b7  Female   67           Low         1.0\n",
       "3  6283d2b4d56796d953b303b8    Male   67          High         2.0\n",
       "4  6283d2b4d56796d953b303b9  Female   40          High         6.0"
      ]
     },
     "execution_count": 14,
     "metadata": {},
     "output_type": "execute_result"
    }
   ],
   "source": [
    "customer_dataset.head()"
   ]
  },
  {
   "cell_type": "code",
   "execution_count": 15,
   "id": "2674fed9",
   "metadata": {},
   "outputs": [
    {
     "name": "stdout",
     "output_type": "stream",
     "text": [
      "Tata\n"
     ]
    },
    {
     "data": {
      "text/html": [
       "<div>\n",
       "<style scoped>\n",
       "    .dataframe tbody tr th:only-of-type {\n",
       "        vertical-align: middle;\n",
       "    }\n",
       "\n",
       "    .dataframe tbody tr th {\n",
       "        vertical-align: top;\n",
       "    }\n",
       "\n",
       "    .dataframe thead th {\n",
       "        text-align: right;\n",
       "    }\n",
       "</style>\n",
       "<table border=\"1\" class=\"dataframe\">\n",
       "  <thead>\n",
       "    <tr style=\"text-align: right;\">\n",
       "      <th></th>\n",
       "      <th>Body_Type</th>\n",
       "      <th>Fuel_Type</th>\n",
       "      <th>Type</th>\n",
       "      <th>Make</th>\n",
       "      <th>Seating_Capacity</th>\n",
       "      <th>Ex-Showroom_Price</th>\n",
       "    </tr>\n",
       "  </thead>\n",
       "  <tbody>\n",
       "    <tr>\n",
       "      <th>0</th>\n",
       "      <td>Hatchback</td>\n",
       "      <td>Petrol</td>\n",
       "      <td>Manual</td>\n",
       "      <td>Tata</td>\n",
       "      <td>4.0</td>\n",
       "      <td>292667</td>\n",
       "    </tr>\n",
       "    <tr>\n",
       "      <th>1</th>\n",
       "      <td>Hatchback</td>\n",
       "      <td>Petrol</td>\n",
       "      <td>Manual</td>\n",
       "      <td>Tata</td>\n",
       "      <td>4.0</td>\n",
       "      <td>236447</td>\n",
       "    </tr>\n",
       "    <tr>\n",
       "      <th>2</th>\n",
       "      <td>Hatchback</td>\n",
       "      <td>CNG</td>\n",
       "      <td>Manual</td>\n",
       "      <td>Tata</td>\n",
       "      <td>4.0</td>\n",
       "      <td>296661</td>\n",
       "    </tr>\n",
       "    <tr>\n",
       "      <th>3</th>\n",
       "      <td>Hatchback</td>\n",
       "      <td>Petrol</td>\n",
       "      <td>Automatic</td>\n",
       "      <td>Tata</td>\n",
       "      <td>4.0</td>\n",
       "      <td>334768</td>\n",
       "    </tr>\n",
       "    <tr>\n",
       "      <th>4</th>\n",
       "      <td>Hatchback</td>\n",
       "      <td>Petrol</td>\n",
       "      <td>Manual</td>\n",
       "      <td>Tata</td>\n",
       "      <td>4.0</td>\n",
       "      <td>272223</td>\n",
       "    </tr>\n",
       "  </tbody>\n",
       "</table>\n",
       "</div>"
      ],
      "text/plain": [
       "   Body_Type Fuel_Type       Type  Make  Seating_Capacity  Ex-Showroom_Price\n",
       "0  Hatchback    Petrol     Manual  Tata               4.0             292667\n",
       "1  Hatchback    Petrol     Manual  Tata               4.0             236447\n",
       "2  Hatchback       CNG     Manual  Tata               4.0             296661\n",
       "3  Hatchback    Petrol  Automatic  Tata               4.0             334768\n",
       "4  Hatchback    Petrol     Manual  Tata               4.0             272223"
      ]
     },
     "execution_count": 15,
     "metadata": {},
     "output_type": "execute_result"
    }
   ],
   "source": [
    "sample = car_dataset[[\"Body_Type\",\"Fuel_Type\",\"Type\",\"Make\",\"Seating_Capacity\",\"Ex-Showroom_Price\"]]\n",
    "print(sample.iat[0,3])\n",
    "sample.head()"
   ]
  },
  {
   "cell_type": "code",
   "execution_count": 16,
   "id": "da4f23ec",
   "metadata": {},
   "outputs": [],
   "source": [
    "#customer_dataset.drop(\"_id\",axis=1,inplace=True)\n",
    "customer_dict = customer_dataset.to_dict()\n",
    "#print(customer_dict)"
   ]
  },
  {
   "cell_type": "code",
   "execution_count": 19,
   "id": "682a1827",
   "metadata": {},
   "outputs": [],
   "source": [
    "updatables = {\"company\":[],\"Body_Type\":[] ,\"Fuel_Type\":[] ,\"transmission\":[]}\n",
    "customer_dict.update(updatables)"
   ]
  },
  {
   "cell_type": "markdown",
   "id": "641c3499",
   "metadata": {},
   "source": [
    "Assigning body, fuel, transmission, company columns to customer dataset"
   ]
  },
  {
   "cell_type": "code",
   "execution_count": 18,
   "id": "e5167665",
   "metadata": {},
   "outputs": [],
   "source": [
    "for i in range(len(customer_dataset)):\n",
    "    if(customer_dict[\"SpendingScore\"][i]==\"Low\"):\n",
    "        new_df = sample[(sample['Ex-Showroom_Price']>=low_min) & (sample['Ex-Showroom_Price']<=low_max) & (sample['Seating_Capacity']<=customer_dict[\"FamilySize\"][i]+3) & (sample['Seating_Capacity']>=customer_dict[\"FamilySize\"][i])]\n",
    "        if(len(new_df)==0):\n",
    "            customer_dict[\"company\"].append(None)\n",
    "            customer_dict[\"Body_Type\"].append(None)\n",
    "            customer_dict[\"Fuel_Type\"].append(None)\n",
    "            customer_dict[\"transmission\"].append(None)\n",
    "            \n",
    "        else:\n",
    "            r = new_df.sample()\n",
    "            customer_dict[\"company\"].append(r.iat[0,3])\n",
    "            customer_dict[\"Body_Type\"].append(r.iat[0,0])\n",
    "            customer_dict[\"Fuel_Type\"].append(r.iat[0,1])\n",
    "            customer_dict[\"transmission\"].append(r.iat[0,2])\n",
    "            #print(new_df.shape,r.shape,r.iat[0,3],r.iat[0,0],r.iat[0,1],r.iat[0,2])\n",
    "            \n",
    "    elif(customer_dict[\"SpendingScore\"][i]==\"Average\"):\n",
    "        new_df = sample[(sample['Ex-Showroom_Price']>=mid_min) & (sample['Ex-Showroom_Price']<=mid_max) & (sample['Seating_Capacity']<=customer_dict[\"FamilySize\"][i]+3) & (sample['Seating_Capacity']>=customer_dict[\"FamilySize\"][i])]\n",
    "        if(len(new_df)==0):\n",
    "            customer_dict[\"company\"].append(None)\n",
    "            customer_dict[\"Body_Type\"].append(None)\n",
    "            customer_dict[\"Fuel_Type\"].append(None)\n",
    "            customer_dict[\"transmission\"].append(None)\n",
    "            \n",
    "        else:\n",
    "            r = new_df.sample()\n",
    "            customer_dict[\"company\"].append(r.iat[0,3])\n",
    "            customer_dict[\"Body_Type\"].append(r.iat[0,0])\n",
    "            customer_dict[\"Fuel_Type\"].append(r.iat[0,1])\n",
    "            customer_dict[\"transmission\"].append(r.iat[0,2])\n",
    "            #print(new_df.shape,r.shape,r.iat[0,3],r.iat[0,0],r.iat[0,1],r.iat[0,2])\n",
    "            \n",
    "    else:\n",
    "        new_df = sample[(sample['Ex-Showroom_Price']>=high_min) & (sample['Ex-Showroom_Price']<=high_max) & (sample['Seating_Capacity']<=customer_dict[\"FamilySize\"][i]+3) & (sample['Seating_Capacity']>=customer_dict[\"FamilySize\"][i])]\n",
    "        if(len(new_df)==0):\n",
    "            customer_dict[\"company\"].append(None)\n",
    "            customer_dict[\"Body_Type\"].append(None)\n",
    "            customer_dict[\"Fuel_Type\"].append(None)\n",
    "            customer_dict[\"transmission\"].append(None)\n",
    "            \n",
    "        else:\n",
    "            r = new_df.sample()\n",
    "            customer_dict[\"company\"].append(r.iat[0,3])\n",
    "            customer_dict[\"Body_Type\"].append(r.iat[0,0])\n",
    "            customer_dict[\"Fuel_Type\"].append(r.iat[0,1])\n",
    "            customer_dict[\"transmission\"].append(r.iat[0,2])"
   ]
  },
  {
   "cell_type": "code",
   "execution_count": 20,
   "id": "735efe77",
   "metadata": {},
   "outputs": [
    {
     "name": "stdout",
     "output_type": "stream",
     "text": [
      "dict_keys(['_id', 'Gender', 'Age', 'SpendingScore', 'FamilySize', 'company', 'Body_Type', 'Fuel_Type', 'transmission'])\n"
     ]
    }
   ],
   "source": [
    "print(customer_dict.keys())"
   ]
  },
  {
   "cell_type": "code",
   "execution_count": 22,
   "id": "6fbf7d99",
   "metadata": {},
   "outputs": [],
   "source": [
    "extra_df = pd.DataFrame(customer_dict, columns = ['company', 'Body_Type', 'Fuel_Type', 'transmission'])"
   ]
  },
  {
   "cell_type": "code",
   "execution_count": 24,
   "id": "0934516a",
   "metadata": {},
   "outputs": [],
   "source": [
    "extra_df.to_csv(\"extra3.csv\")"
   ]
  },
  {
   "cell_type": "code",
   "execution_count": 26,
   "id": "12b50fc4",
   "metadata": {},
   "outputs": [
    {
     "name": "stdout",
     "output_type": "stream",
     "text": [
      "(10695, 5) 10695\n"
     ]
    }
   ],
   "source": [
    "print(customer_dataset.shape,len(customer_dataset))"
   ]
  },
  {
   "cell_type": "markdown",
   "id": "9d5de6f4",
   "metadata": {},
   "source": [
    "###### Sales dataset"
   ]
  },
  {
   "cell_type": "code",
   "execution_count": 6,
   "id": "48154dfb",
   "metadata": {},
   "outputs": [
    {
     "data": {
      "text/html": [
       "<div>\n",
       "<style scoped>\n",
       "    .dataframe tbody tr th:only-of-type {\n",
       "        vertical-align: middle;\n",
       "    }\n",
       "\n",
       "    .dataframe tbody tr th {\n",
       "        vertical-align: top;\n",
       "    }\n",
       "\n",
       "    .dataframe thead th {\n",
       "        text-align: right;\n",
       "    }\n",
       "</style>\n",
       "<table border=\"1\" class=\"dataframe\">\n",
       "  <thead>\n",
       "    <tr style=\"text-align: right;\">\n",
       "      <th></th>\n",
       "      <th>Year</th>\n",
       "      <th>Month</th>\n",
       "      <th>New</th>\n",
       "      <th>Used</th>\n",
       "      <th>Total Sales New</th>\n",
       "      <th>Total Sales Used</th>\n",
       "    </tr>\n",
       "  </thead>\n",
       "  <tbody>\n",
       "    <tr>\n",
       "      <th>0</th>\n",
       "      <td>2002</td>\n",
       "      <td>JAN</td>\n",
       "      <td>31106</td>\n",
       "      <td>49927</td>\n",
       "      <td>755015820</td>\n",
       "      <td>386481929</td>\n",
       "    </tr>\n",
       "    <tr>\n",
       "      <th>1</th>\n",
       "      <td>2002</td>\n",
       "      <td>FEB</td>\n",
       "      <td>27520</td>\n",
       "      <td>50982</td>\n",
       "      <td>664454223</td>\n",
       "      <td>361353242</td>\n",
       "    </tr>\n",
       "    <tr>\n",
       "      <th>2</th>\n",
       "      <td>2002</td>\n",
       "      <td>MAR</td>\n",
       "      <td>34225</td>\n",
       "      <td>58794</td>\n",
       "      <td>805666244</td>\n",
       "      <td>419385387</td>\n",
       "    </tr>\n",
       "    <tr>\n",
       "      <th>3</th>\n",
       "      <td>2002</td>\n",
       "      <td>APR</td>\n",
       "      <td>36452</td>\n",
       "      <td>59817</td>\n",
       "      <td>846368297</td>\n",
       "      <td>433061150</td>\n",
       "    </tr>\n",
       "    <tr>\n",
       "      <th>4</th>\n",
       "      <td>2002</td>\n",
       "      <td>MAY</td>\n",
       "      <td>37359</td>\n",
       "      <td>60577</td>\n",
       "      <td>855005784</td>\n",
       "      <td>442569410</td>\n",
       "    </tr>\n",
       "  </tbody>\n",
       "</table>\n",
       "</div>"
      ],
      "text/plain": [
       "   Year  Month     New   Used  Total Sales New  Total Sales Used\n",
       "0   2002    JAN  31106  49927        755015820         386481929\n",
       "1   2002    FEB  27520  50982        664454223         361353242\n",
       "2   2002    MAR  34225  58794        805666244         419385387\n",
       "3   2002    APR  36452  59817        846368297         433061150\n",
       "4   2002    MAY  37359  60577        855005784         442569410"
      ]
     },
     "execution_count": 6,
     "metadata": {},
     "output_type": "execute_result"
    }
   ],
   "source": [
    "sale_dataset = pd.read_csv(\"sales.csv\")\n",
    "sale_dataset.head()"
   ]
  },
  {
   "cell_type": "code",
   "execution_count": 7,
   "id": "be7da6d3",
   "metadata": {},
   "outputs": [],
   "source": [
    "months = {\n",
    "    \"JAN\":1,\n",
    "    \"FEB\":2,\n",
    "    \"MAR\":3,\n",
    "    \"APR\":4,\n",
    "    \"MAY\":5,\n",
    "    \"JUN\":6,\n",
    "    \"JUL\":7,\n",
    "    \"AUG\":8,\n",
    "    \"SEP\":9,\n",
    "    \"OCT\":10,\n",
    "    \"NOV\":11,\n",
    "    \"DEC\":12\n",
    "}"
   ]
  },
  {
   "cell_type": "code",
   "execution_count": 12,
   "id": "db37984a",
   "metadata": {},
   "outputs": [
    {
     "data": {
      "text/html": [
       "<div>\n",
       "<style scoped>\n",
       "    .dataframe tbody tr th:only-of-type {\n",
       "        vertical-align: middle;\n",
       "    }\n",
       "\n",
       "    .dataframe tbody tr th {\n",
       "        vertical-align: top;\n",
       "    }\n",
       "\n",
       "    .dataframe thead th {\n",
       "        text-align: right;\n",
       "    }\n",
       "</style>\n",
       "<table border=\"1\" class=\"dataframe\">\n",
       "  <thead>\n",
       "    <tr style=\"text-align: right;\">\n",
       "      <th></th>\n",
       "      <th>Year</th>\n",
       "      <th>Month</th>\n",
       "      <th>New</th>\n",
       "      <th>Used</th>\n",
       "      <th>Total Sales New</th>\n",
       "      <th>Total Sales Used</th>\n",
       "    </tr>\n",
       "  </thead>\n",
       "  <tbody>\n",
       "    <tr>\n",
       "      <th>0</th>\n",
       "      <td>2002</td>\n",
       "      <td>1</td>\n",
       "      <td>31106</td>\n",
       "      <td>49927</td>\n",
       "      <td>755015820</td>\n",
       "      <td>386481929</td>\n",
       "    </tr>\n",
       "    <tr>\n",
       "      <th>1</th>\n",
       "      <td>2002</td>\n",
       "      <td>2</td>\n",
       "      <td>27520</td>\n",
       "      <td>50982</td>\n",
       "      <td>664454223</td>\n",
       "      <td>361353242</td>\n",
       "    </tr>\n",
       "    <tr>\n",
       "      <th>2</th>\n",
       "      <td>2002</td>\n",
       "      <td>3</td>\n",
       "      <td>34225</td>\n",
       "      <td>58794</td>\n",
       "      <td>805666244</td>\n",
       "      <td>419385387</td>\n",
       "    </tr>\n",
       "    <tr>\n",
       "      <th>3</th>\n",
       "      <td>2002</td>\n",
       "      <td>4</td>\n",
       "      <td>36452</td>\n",
       "      <td>59817</td>\n",
       "      <td>846368297</td>\n",
       "      <td>433061150</td>\n",
       "    </tr>\n",
       "    <tr>\n",
       "      <th>4</th>\n",
       "      <td>2002</td>\n",
       "      <td>5</td>\n",
       "      <td>37359</td>\n",
       "      <td>60577</td>\n",
       "      <td>855005784</td>\n",
       "      <td>442569410</td>\n",
       "    </tr>\n",
       "  </tbody>\n",
       "</table>\n",
       "</div>"
      ],
      "text/plain": [
       "   Year   Month     New   Used  Total Sales New  Total Sales Used\n",
       "0   2002       1  31106  49927        755015820         386481929\n",
       "1   2002       2  27520  50982        664454223         361353242\n",
       "2   2002       3  34225  58794        805666244         419385387\n",
       "3   2002       4  36452  59817        846368297         433061150\n",
       "4   2002       5  37359  60577        855005784         442569410"
      ]
     },
     "execution_count": 12,
     "metadata": {},
     "output_type": "execute_result"
    }
   ],
   "source": [
    "sale_dataset[\"Month \"] = sale_dataset[\"Month \"].apply(lambda x: months[x])\n",
    "sale_dataset.head()"
   ]
  },
  {
   "cell_type": "code",
   "execution_count": 13,
   "id": "30bf7805",
   "metadata": {},
   "outputs": [],
   "source": [
    "sale_dataset.rename(columns = {'Month ':'Month', 'Year ':'Year'}, inplace = True)"
   ]
  },
  {
   "cell_type": "code",
   "execution_count": 25,
   "id": "04779035",
   "metadata": {},
   "outputs": [
    {
     "data": {
      "text/plain": [
       "Year                int64\n",
       "Month               int64\n",
       "New                 int64\n",
       "Used                int64\n",
       "Total Sales New     int64\n",
       "Total Sales Used    int64\n",
       "dtype: object"
      ]
     },
     "execution_count": 25,
     "metadata": {},
     "output_type": "execute_result"
    }
   ],
   "source": [
    "sale_dataset.dtypes"
   ]
  },
  {
   "cell_type": "code",
   "execution_count": 38,
   "id": "a76244b3",
   "metadata": {},
   "outputs": [
    {
     "name": "stdout",
     "output_type": "stream",
     "text": [
      "<class 'dict'>\n"
     ]
    }
   ],
   "source": [
    "sale_dict = sale_dataset.to_dict()\n",
    "print(type(sale_dict))"
   ]
  },
  {
   "cell_type": "code",
   "execution_count": 39,
   "id": "b4d3dd6e",
   "metadata": {},
   "outputs": [],
   "source": [
    "updat = {\"Dates\":[]}\n",
    "sale_dict.update(updat)"
   ]
  },
  {
   "cell_type": "code",
   "execution_count": 42,
   "id": "1fb87027",
   "metadata": {},
   "outputs": [],
   "source": [
    "for i in range(len(sale_dataset)):\n",
    "    m=\"\"\n",
    "    \n",
    "    if(sale_dict[\"Month\"][i]<10):\n",
    "        m = \"-0\" + str(sale_dict[\"Month\"][i])\n",
    "    else:\n",
    "        m = \"-\" + str(sale_dict[\"Month\"][i])\n",
    "    \n",
    "    sale_dict[\"Dates\"][i] = str(sale_dict[\"Year\"][i]) + m"
   ]
  },
  {
   "cell_type": "code",
   "execution_count": 44,
   "id": "c90f1bd9",
   "metadata": {},
   "outputs": [],
   "source": [
    "extra_df1 = pd.DataFrame(sale_dict[\"Dates\"])"
   ]
  },
  {
   "cell_type": "code",
   "execution_count": 46,
   "id": "7f122eff",
   "metadata": {},
   "outputs": [
    {
     "name": "stdout",
     "output_type": "stream",
     "text": [
      "(242, 1)\n",
      "(242, 7)\n"
     ]
    }
   ],
   "source": [
    "print(extra_df1.shape)\n",
    "print(sale_dataset.shape)"
   ]
  },
  {
   "cell_type": "code",
   "execution_count": 47,
   "id": "8464fa85",
   "metadata": {},
   "outputs": [
    {
     "data": {
      "text/html": [
       "<div>\n",
       "<style scoped>\n",
       "    .dataframe tbody tr th:only-of-type {\n",
       "        vertical-align: middle;\n",
       "    }\n",
       "\n",
       "    .dataframe tbody tr th {\n",
       "        vertical-align: top;\n",
       "    }\n",
       "\n",
       "    .dataframe thead th {\n",
       "        text-align: right;\n",
       "    }\n",
       "</style>\n",
       "<table border=\"1\" class=\"dataframe\">\n",
       "  <thead>\n",
       "    <tr style=\"text-align: right;\">\n",
       "      <th></th>\n",
       "      <th>Year</th>\n",
       "      <th>Month</th>\n",
       "      <th>New</th>\n",
       "      <th>Used</th>\n",
       "      <th>Total Sales New</th>\n",
       "      <th>Total Sales Used</th>\n",
       "      <th>Dates</th>\n",
       "      <th>0</th>\n",
       "    </tr>\n",
       "  </thead>\n",
       "  <tbody>\n",
       "    <tr>\n",
       "      <th>0</th>\n",
       "      <td>2002</td>\n",
       "      <td>1</td>\n",
       "      <td>31106</td>\n",
       "      <td>49927</td>\n",
       "      <td>755015820</td>\n",
       "      <td>386481929</td>\n",
       "      <td>2002</td>\n",
       "      <td>2002-01</td>\n",
       "    </tr>\n",
       "    <tr>\n",
       "      <th>1</th>\n",
       "      <td>2002</td>\n",
       "      <td>2</td>\n",
       "      <td>27520</td>\n",
       "      <td>50982</td>\n",
       "      <td>664454223</td>\n",
       "      <td>361353242</td>\n",
       "      <td>4004</td>\n",
       "      <td>2002-02</td>\n",
       "    </tr>\n",
       "    <tr>\n",
       "      <th>2</th>\n",
       "      <td>2002</td>\n",
       "      <td>3</td>\n",
       "      <td>34225</td>\n",
       "      <td>58794</td>\n",
       "      <td>805666244</td>\n",
       "      <td>419385387</td>\n",
       "      <td>6006</td>\n",
       "      <td>2002-03</td>\n",
       "    </tr>\n",
       "    <tr>\n",
       "      <th>3</th>\n",
       "      <td>2002</td>\n",
       "      <td>4</td>\n",
       "      <td>36452</td>\n",
       "      <td>59817</td>\n",
       "      <td>846368297</td>\n",
       "      <td>433061150</td>\n",
       "      <td>8008</td>\n",
       "      <td>2002-04</td>\n",
       "    </tr>\n",
       "    <tr>\n",
       "      <th>4</th>\n",
       "      <td>2002</td>\n",
       "      <td>5</td>\n",
       "      <td>37359</td>\n",
       "      <td>60577</td>\n",
       "      <td>855005784</td>\n",
       "      <td>442569410</td>\n",
       "      <td>10010</td>\n",
       "      <td>2002-05</td>\n",
       "    </tr>\n",
       "  </tbody>\n",
       "</table>\n",
       "</div>"
      ],
      "text/plain": [
       "   Year  Month    New   Used  Total Sales New  Total Sales Used  Dates  \\\n",
       "0  2002      1  31106  49927        755015820         386481929   2002   \n",
       "1  2002      2  27520  50982        664454223         361353242   4004   \n",
       "2  2002      3  34225  58794        805666244         419385387   6006   \n",
       "3  2002      4  36452  59817        846368297         433061150   8008   \n",
       "4  2002      5  37359  60577        855005784         442569410  10010   \n",
       "\n",
       "         0  \n",
       "0  2002-01  \n",
       "1  2002-02  \n",
       "2  2002-03  \n",
       "3  2002-04  \n",
       "4  2002-05  "
      ]
     },
     "execution_count": 47,
     "metadata": {},
     "output_type": "execute_result"
    }
   ],
   "source": [
    "sale_dataset = pd.concat([sale_dataset,extra_df1],axis=1)\n",
    "sale_dataset.head()"
   ]
  },
  {
   "cell_type": "code",
   "execution_count": null,
   "id": "1ad25b08",
   "metadata": {},
   "outputs": [],
   "source": [
    "sale_dataset.drop(['Used','Total Sales New','Total Sales Used','_id'],axis=1,inplace=True)"
   ]
  },
  {
   "cell_type": "code",
   "execution_count": null,
   "id": "99b5008c",
   "metadata": {},
   "outputs": [],
   "source": [
    "sales_dataset['new1'] = sales_dataset['New']\n",
    "sales_dataset.drop('New',axis=1,inplace=True)\n",
    "sales_dataset.rename(columns = {'Dates':'ds','new1':'y'},inplace=True)\n",
    "sales_dataset.head()"
   ]
  },
  {
   "cell_type": "code",
   "execution_count": null,
   "id": "3532b179",
   "metadata": {},
   "outputs": [],
   "source": [
    "sales_dataset.to_csv('sale.csv')"
   ]
  },
  {
   "cell_type": "markdown",
   "id": "9b4b0d81",
   "metadata": {},
   "source": [
    "###### Covid dataset"
   ]
  },
  {
   "cell_type": "code",
   "execution_count": 5,
   "id": "7cb44eb1",
   "metadata": {},
   "outputs": [
    {
     "data": {
      "text/html": [
       "<div>\n",
       "<style scoped>\n",
       "    .dataframe tbody tr th:only-of-type {\n",
       "        vertical-align: middle;\n",
       "    }\n",
       "\n",
       "    .dataframe tbody tr th {\n",
       "        vertical-align: top;\n",
       "    }\n",
       "\n",
       "    .dataframe thead th {\n",
       "        text-align: right;\n",
       "    }\n",
       "</style>\n",
       "<table border=\"1\" class=\"dataframe\">\n",
       "  <thead>\n",
       "    <tr style=\"text-align: right;\">\n",
       "      <th></th>\n",
       "      <th>country_region_code</th>\n",
       "      <th>country_region</th>\n",
       "      <th>sub_region_1</th>\n",
       "      <th>sub_region_2</th>\n",
       "      <th>metro_area</th>\n",
       "      <th>iso_3166_2_code</th>\n",
       "      <th>census_fips_code</th>\n",
       "      <th>place_id</th>\n",
       "      <th>date</th>\n",
       "      <th>retail_and_recreation_percent_change_from_baseline</th>\n",
       "      <th>grocery_and_pharmacy_percent_change_from_baseline</th>\n",
       "      <th>parks_percent_change_from_baseline</th>\n",
       "      <th>transit_stations_percent_change_from_baseline</th>\n",
       "      <th>workplaces_percent_change_from_baseline</th>\n",
       "      <th>residential_percent_change_from_baseline</th>\n",
       "    </tr>\n",
       "  </thead>\n",
       "  <tbody>\n",
       "    <tr>\n",
       "      <th>0</th>\n",
       "      <td>IN</td>\n",
       "      <td>India</td>\n",
       "      <td>NaN</td>\n",
       "      <td>NaN</td>\n",
       "      <td>NaN</td>\n",
       "      <td>NaN</td>\n",
       "      <td>NaN</td>\n",
       "      <td>ChIJkbeSa_BfYzARphNChaFPjNc</td>\n",
       "      <td>2020-02-15</td>\n",
       "      <td>1.0</td>\n",
       "      <td>2.0</td>\n",
       "      <td>3.0</td>\n",
       "      <td>3.0</td>\n",
       "      <td>5.0</td>\n",
       "      <td>0.0</td>\n",
       "    </tr>\n",
       "    <tr>\n",
       "      <th>1</th>\n",
       "      <td>IN</td>\n",
       "      <td>India</td>\n",
       "      <td>NaN</td>\n",
       "      <td>NaN</td>\n",
       "      <td>NaN</td>\n",
       "      <td>NaN</td>\n",
       "      <td>NaN</td>\n",
       "      <td>ChIJkbeSa_BfYzARphNChaFPjNc</td>\n",
       "      <td>2020-02-16</td>\n",
       "      <td>2.0</td>\n",
       "      <td>2.0</td>\n",
       "      <td>3.0</td>\n",
       "      <td>2.0</td>\n",
       "      <td>0.0</td>\n",
       "      <td>0.0</td>\n",
       "    </tr>\n",
       "    <tr>\n",
       "      <th>2</th>\n",
       "      <td>IN</td>\n",
       "      <td>India</td>\n",
       "      <td>NaN</td>\n",
       "      <td>NaN</td>\n",
       "      <td>NaN</td>\n",
       "      <td>NaN</td>\n",
       "      <td>NaN</td>\n",
       "      <td>ChIJkbeSa_BfYzARphNChaFPjNc</td>\n",
       "      <td>2020-02-17</td>\n",
       "      <td>-1.0</td>\n",
       "      <td>1.0</td>\n",
       "      <td>3.0</td>\n",
       "      <td>1.0</td>\n",
       "      <td>4.0</td>\n",
       "      <td>0.0</td>\n",
       "    </tr>\n",
       "    <tr>\n",
       "      <th>3</th>\n",
       "      <td>IN</td>\n",
       "      <td>India</td>\n",
       "      <td>NaN</td>\n",
       "      <td>NaN</td>\n",
       "      <td>NaN</td>\n",
       "      <td>NaN</td>\n",
       "      <td>NaN</td>\n",
       "      <td>ChIJkbeSa_BfYzARphNChaFPjNc</td>\n",
       "      <td>2020-02-18</td>\n",
       "      <td>0.0</td>\n",
       "      <td>2.0</td>\n",
       "      <td>4.0</td>\n",
       "      <td>2.0</td>\n",
       "      <td>3.0</td>\n",
       "      <td>0.0</td>\n",
       "    </tr>\n",
       "    <tr>\n",
       "      <th>4</th>\n",
       "      <td>IN</td>\n",
       "      <td>India</td>\n",
       "      <td>NaN</td>\n",
       "      <td>NaN</td>\n",
       "      <td>NaN</td>\n",
       "      <td>NaN</td>\n",
       "      <td>NaN</td>\n",
       "      <td>ChIJkbeSa_BfYzARphNChaFPjNc</td>\n",
       "      <td>2020-02-19</td>\n",
       "      <td>0.0</td>\n",
       "      <td>2.0</td>\n",
       "      <td>1.0</td>\n",
       "      <td>1.0</td>\n",
       "      <td>4.0</td>\n",
       "      <td>1.0</td>\n",
       "    </tr>\n",
       "  </tbody>\n",
       "</table>\n",
       "</div>"
      ],
      "text/plain": [
       "  country_region_code country_region sub_region_1 sub_region_2  metro_area  \\\n",
       "0                  IN          India          NaN          NaN         NaN   \n",
       "1                  IN          India          NaN          NaN         NaN   \n",
       "2                  IN          India          NaN          NaN         NaN   \n",
       "3                  IN          India          NaN          NaN         NaN   \n",
       "4                  IN          India          NaN          NaN         NaN   \n",
       "\n",
       "  iso_3166_2_code  census_fips_code                     place_id        date  \\\n",
       "0             NaN               NaN  ChIJkbeSa_BfYzARphNChaFPjNc  2020-02-15   \n",
       "1             NaN               NaN  ChIJkbeSa_BfYzARphNChaFPjNc  2020-02-16   \n",
       "2             NaN               NaN  ChIJkbeSa_BfYzARphNChaFPjNc  2020-02-17   \n",
       "3             NaN               NaN  ChIJkbeSa_BfYzARphNChaFPjNc  2020-02-18   \n",
       "4             NaN               NaN  ChIJkbeSa_BfYzARphNChaFPjNc  2020-02-19   \n",
       "\n",
       "   retail_and_recreation_percent_change_from_baseline  \\\n",
       "0                                                1.0    \n",
       "1                                                2.0    \n",
       "2                                               -1.0    \n",
       "3                                                0.0    \n",
       "4                                                0.0    \n",
       "\n",
       "   grocery_and_pharmacy_percent_change_from_baseline  \\\n",
       "0                                                2.0   \n",
       "1                                                2.0   \n",
       "2                                                1.0   \n",
       "3                                                2.0   \n",
       "4                                                2.0   \n",
       "\n",
       "   parks_percent_change_from_baseline  \\\n",
       "0                                 3.0   \n",
       "1                                 3.0   \n",
       "2                                 3.0   \n",
       "3                                 4.0   \n",
       "4                                 1.0   \n",
       "\n",
       "   transit_stations_percent_change_from_baseline  \\\n",
       "0                                            3.0   \n",
       "1                                            2.0   \n",
       "2                                            1.0   \n",
       "3                                            2.0   \n",
       "4                                            1.0   \n",
       "\n",
       "   workplaces_percent_change_from_baseline  \\\n",
       "0                                      5.0   \n",
       "1                                      0.0   \n",
       "2                                      4.0   \n",
       "3                                      3.0   \n",
       "4                                      4.0   \n",
       "\n",
       "   residential_percent_change_from_baseline  \n",
       "0                                       0.0  \n",
       "1                                       0.0  \n",
       "2                                       0.0  \n",
       "3                                       0.0  \n",
       "4                                       1.0  "
      ]
     },
     "execution_count": 5,
     "metadata": {},
     "output_type": "execute_result"
    }
   ],
   "source": [
    "covid = pd.read_csv(\"covid_data.csv\")\n",
    "covid.head()"
   ]
  },
  {
   "cell_type": "code",
   "execution_count": 6,
   "id": "8f26eed6",
   "metadata": {},
   "outputs": [
    {
     "data": {
      "text/html": [
       "<div>\n",
       "<style scoped>\n",
       "    .dataframe tbody tr th:only-of-type {\n",
       "        vertical-align: middle;\n",
       "    }\n",
       "\n",
       "    .dataframe tbody tr th {\n",
       "        vertical-align: top;\n",
       "    }\n",
       "\n",
       "    .dataframe thead th {\n",
       "        text-align: right;\n",
       "    }\n",
       "</style>\n",
       "<table border=\"1\" class=\"dataframe\">\n",
       "  <thead>\n",
       "    <tr style=\"text-align: right;\">\n",
       "      <th></th>\n",
       "      <th>date</th>\n",
       "      <th>change</th>\n",
       "    </tr>\n",
       "  </thead>\n",
       "  <tbody>\n",
       "    <tr>\n",
       "      <th>0</th>\n",
       "      <td>2020-02-15</td>\n",
       "      <td>1.0</td>\n",
       "    </tr>\n",
       "    <tr>\n",
       "      <th>1</th>\n",
       "      <td>2020-02-16</td>\n",
       "      <td>2.0</td>\n",
       "    </tr>\n",
       "    <tr>\n",
       "      <th>2</th>\n",
       "      <td>2020-02-17</td>\n",
       "      <td>-1.0</td>\n",
       "    </tr>\n",
       "    <tr>\n",
       "      <th>3</th>\n",
       "      <td>2020-02-18</td>\n",
       "      <td>0.0</td>\n",
       "    </tr>\n",
       "    <tr>\n",
       "      <th>4</th>\n",
       "      <td>2020-02-19</td>\n",
       "      <td>0.0</td>\n",
       "    </tr>\n",
       "  </tbody>\n",
       "</table>\n",
       "</div>"
      ],
      "text/plain": [
       "         date  change\n",
       "0  2020-02-15     1.0\n",
       "1  2020-02-16     2.0\n",
       "2  2020-02-17    -1.0\n",
       "3  2020-02-18     0.0\n",
       "4  2020-02-19     0.0"
      ]
     },
     "execution_count": 6,
     "metadata": {},
     "output_type": "execute_result"
    }
   ],
   "source": [
    "covid = covid[['date','retail_and_recreation_percent_change_from_baseline']]\n",
    "covid.rename(columns = {'retail_and_recreation_percent_change_from_baseline':'change'},inplace = True)\n",
    "covid.head()"
   ]
  },
  {
   "cell_type": "code",
   "execution_count": 7,
   "id": "082fdb79",
   "metadata": {},
   "outputs": [
    {
     "data": {
      "text/html": [
       "<div>\n",
       "<style scoped>\n",
       "    .dataframe tbody tr th:only-of-type {\n",
       "        vertical-align: middle;\n",
       "    }\n",
       "\n",
       "    .dataframe tbody tr th {\n",
       "        vertical-align: top;\n",
       "    }\n",
       "\n",
       "    .dataframe thead th {\n",
       "        text-align: right;\n",
       "    }\n",
       "</style>\n",
       "<table border=\"1\" class=\"dataframe\">\n",
       "  <thead>\n",
       "    <tr style=\"text-align: right;\">\n",
       "      <th></th>\n",
       "      <th>date</th>\n",
       "      <th>change</th>\n",
       "    </tr>\n",
       "  </thead>\n",
       "  <tbody>\n",
       "    <tr>\n",
       "      <th>0</th>\n",
       "      <td>2020-02-15</td>\n",
       "      <td>1.0</td>\n",
       "    </tr>\n",
       "    <tr>\n",
       "      <th>1</th>\n",
       "      <td>2020-02-16</td>\n",
       "      <td>2.0</td>\n",
       "    </tr>\n",
       "    <tr>\n",
       "      <th>2</th>\n",
       "      <td>2020-02-17</td>\n",
       "      <td>-1.0</td>\n",
       "    </tr>\n",
       "    <tr>\n",
       "      <th>3</th>\n",
       "      <td>2020-02-18</td>\n",
       "      <td>0.0</td>\n",
       "    </tr>\n",
       "    <tr>\n",
       "      <th>4</th>\n",
       "      <td>2020-02-19</td>\n",
       "      <td>0.0</td>\n",
       "    </tr>\n",
       "  </tbody>\n",
       "</table>\n",
       "</div>"
      ],
      "text/plain": [
       "         date  change\n",
       "0  2020-02-15     1.0\n",
       "1  2020-02-16     2.0\n",
       "2  2020-02-17    -1.0\n",
       "3  2020-02-18     0.0\n",
       "4  2020-02-19     0.0"
      ]
     },
     "execution_count": 7,
     "metadata": {},
     "output_type": "execute_result"
    }
   ],
   "source": [
    "covid.groupby('date').mean()\n",
    "covid.head()"
   ]
  },
  {
   "cell_type": "code",
   "execution_count": 8,
   "id": "9d8911f3",
   "metadata": {},
   "outputs": [
    {
     "data": {
      "text/html": [
       "<div>\n",
       "<style scoped>\n",
       "    .dataframe tbody tr th:only-of-type {\n",
       "        vertical-align: middle;\n",
       "    }\n",
       "\n",
       "    .dataframe tbody tr th {\n",
       "        vertical-align: top;\n",
       "    }\n",
       "\n",
       "    .dataframe thead th {\n",
       "        text-align: right;\n",
       "    }\n",
       "</style>\n",
       "<table border=\"1\" class=\"dataframe\">\n",
       "  <thead>\n",
       "    <tr style=\"text-align: right;\">\n",
       "      <th></th>\n",
       "      <th>DS</th>\n",
       "    </tr>\n",
       "  </thead>\n",
       "  <tbody>\n",
       "    <tr>\n",
       "      <th>0</th>\n",
       "      <td>2020-02</td>\n",
       "    </tr>\n",
       "    <tr>\n",
       "      <th>1</th>\n",
       "      <td>2020-02</td>\n",
       "    </tr>\n",
       "    <tr>\n",
       "      <th>2</th>\n",
       "      <td>2020-02</td>\n",
       "    </tr>\n",
       "    <tr>\n",
       "      <th>3</th>\n",
       "      <td>2020-02</td>\n",
       "    </tr>\n",
       "    <tr>\n",
       "      <th>4</th>\n",
       "      <td>2020-02</td>\n",
       "    </tr>\n",
       "  </tbody>\n",
       "</table>\n",
       "</div>"
      ],
      "text/plain": [
       "        DS\n",
       "0  2020-02\n",
       "1  2020-02\n",
       "2  2020-02\n",
       "3  2020-02\n",
       "4  2020-02"
      ]
     },
     "execution_count": 8,
     "metadata": {},
     "output_type": "execute_result"
    }
   ],
   "source": [
    "covid1 = covid.apply(lambda x: x['date'][:-3],axis=1)\n",
    "extra =  pd.DataFrame(covid1,columns = ['ds'])\n",
    "extra.head()"
   ]
  },
  {
   "cell_type": "code",
   "execution_count": 9,
   "id": "7bf3385e",
   "metadata": {},
   "outputs": [
    {
     "data": {
      "text/html": [
       "<div>\n",
       "<style scoped>\n",
       "    .dataframe tbody tr th:only-of-type {\n",
       "        vertical-align: middle;\n",
       "    }\n",
       "\n",
       "    .dataframe tbody tr th {\n",
       "        vertical-align: top;\n",
       "    }\n",
       "\n",
       "    .dataframe thead th {\n",
       "        text-align: right;\n",
       "    }\n",
       "</style>\n",
       "<table border=\"1\" class=\"dataframe\">\n",
       "  <thead>\n",
       "    <tr style=\"text-align: right;\">\n",
       "      <th></th>\n",
       "      <th>Y</th>\n",
       "    </tr>\n",
       "    <tr>\n",
       "      <th>DS</th>\n",
       "      <th></th>\n",
       "    </tr>\n",
       "  </thead>\n",
       "  <tbody>\n",
       "    <tr>\n",
       "      <th>2020-02</th>\n",
       "      <td>1.050465</td>\n",
       "    </tr>\n",
       "    <tr>\n",
       "      <th>2020-03</th>\n",
       "      <td>-21.688917</td>\n",
       "    </tr>\n",
       "    <tr>\n",
       "      <th>2020-04</th>\n",
       "      <td>-72.483155</td>\n",
       "    </tr>\n",
       "    <tr>\n",
       "      <th>2020-05</th>\n",
       "      <td>-68.709698</td>\n",
       "    </tr>\n",
       "    <tr>\n",
       "      <th>2020-06</th>\n",
       "      <td>-52.158278</td>\n",
       "    </tr>\n",
       "  </tbody>\n",
       "</table>\n",
       "</div>"
      ],
      "text/plain": [
       "                 Y\n",
       "DS                \n",
       "2020-02   1.050465\n",
       "2020-03 -21.688917\n",
       "2020-04 -72.483155\n",
       "2020-05 -68.709698\n",
       "2020-06 -52.158278"
      ]
     },
     "execution_count": 9,
     "metadata": {},
     "output_type": "execute_result"
    }
   ],
   "source": [
    "covid = pd.concat([extra,covid],axis=1)\n",
    "covid.drop('date',axis=1,inplace=True)\n",
    "covid = covid.groupby('ds').mean()\n",
    "covid.rename(columns={'change':'y'},inplace=True)\n",
    "covid.head()"
   ]
  },
  {
   "cell_type": "code",
   "execution_count": 10,
   "id": "220710a5",
   "metadata": {},
   "outputs": [],
   "source": [
    "covid.to_csv(\"covid.csv\")"
   ]
  }
 ],
 "metadata": {
  "kernelspec": {
   "display_name": "Python 3 (ipykernel)",
   "language": "python",
   "name": "python3"
  },
  "language_info": {
   "codemirror_mode": {
    "name": "ipython",
    "version": 3
   },
   "file_extension": ".py",
   "mimetype": "text/x-python",
   "name": "python",
   "nbconvert_exporter": "python",
   "pygments_lexer": "ipython3",
   "version": "3.10.4"
  }
 },
 "nbformat": 4,
 "nbformat_minor": 5
}
