{
  "nbformat": 4,
  "nbformat_minor": 0,
  "metadata": {
    "colab": {
      "provenance": [],
      "authorship_tag": "ABX9TyMQXxJ31dAdlMw0mZYVNHGx",
      "include_colab_link": true
    },
    "kernelspec": {
      "name": "python3",
      "display_name": "Python 3"
    },
    "language_info": {
      "name": "python"
    }
  },
  "cells": [
    {
      "cell_type": "markdown",
      "metadata": {
        "id": "view-in-github",
        "colab_type": "text"
      },
      "source": [
        "<a href=\"https://colab.research.google.com/github/Sh-Hi-Go/MS_Eng_Proj/blob/main/KN_annINTRO.ipynb\" target=\"_parent\"><img src=\"https://colab.research.google.com/assets/colab-badge.svg\" alt=\"Open In Colab\"/></a>"
      ]
    },
    {
      "cell_type": "code",
      "execution_count": null,
      "metadata": {
        "id": "YGeV6kYLpBxG"
      },
      "outputs": [],
      "source": [
        "import pandas as pd\n",
        "import numpy as np\n",
        "import matplotlib.pyplot as plt"
      ]
    },
    {
      "cell_type": "code",
      "source": [
        "dataset = pd.read_csv(\"Churn_Modelling.csv\")\n",
        "X = dataset.iloc[:,3:13]\n",
        "y = dataset.iloc[:,1]"
      ],
      "metadata": {
        "id": "46MmJjozpVJf"
      },
      "execution_count": null,
      "outputs": []
    },
    {
      "cell_type": "code",
      "source": [
        "# create dummy variables\n",
        "geography = pd.get_dummies(X['Geography'], drop_first = True)\n",
        "gender = pd.get_dummies(X['Gender'], drop_first = True)\n",
        "\n",
        "X = pd.concat([X, gender, geography], axis = 1)\n",
        "X = X.drop(['Geography', 'Gender'], axis = 1)\n",
        "print(X)"
      ],
      "metadata": {
        "colab": {
          "base_uri": "https://localhost:8080/"
        },
        "id": "OZR32GBtqKLR",
        "outputId": "6a941d16-144f-4b1c-f8ea-3c69de4bb898"
      },
      "execution_count": null,
      "outputs": [
        {
          "output_type": "stream",
          "name": "stdout",
          "text": [
            "      CreditScore  Age  Tenure    Balance  NumOfProducts  HasCrCard  \\\n",
            "0             619   42       2       0.00              1          1   \n",
            "1             608   41       1   83807.86              1          0   \n",
            "2             502   42       8  159660.80              3          1   \n",
            "3             699   39       1       0.00              2          0   \n",
            "4             850   43       2  125510.82              1          1   \n",
            "...           ...  ...     ...        ...            ...        ...   \n",
            "9995          771   39       5       0.00              2          1   \n",
            "9996          516   35      10   57369.61              1          1   \n",
            "9997          709   36       7       0.00              1          0   \n",
            "9998          772   42       3   75075.31              2          1   \n",
            "9999          792   28       4  130142.79              1          1   \n",
            "\n",
            "      IsActiveMember  EstimatedSalary  Male  Germany  Spain  \n",
            "0                  1        101348.88     0        0      0  \n",
            "1                  1        112542.58     0        0      1  \n",
            "2                  0        113931.57     0        0      0  \n",
            "3                  0         93826.63     0        0      0  \n",
            "4                  1         79084.10     0        0      1  \n",
            "...              ...              ...   ...      ...    ...  \n",
            "9995               0         96270.64     1        0      0  \n",
            "9996               1        101699.77     1        0      0  \n",
            "9997               1         42085.58     0        0      0  \n",
            "9998               0         92888.52     1        1      0  \n",
            "9999               0         38190.78     0        0      0  \n",
            "\n",
            "[10000 rows x 11 columns]\n"
          ]
        }
      ]
    },
    {
      "cell_type": "code",
      "source": [
        "# split\n",
        "from sklearn.model_selection import train_test_split\n",
        "X_train, X_test, y_train, y_test =  train_test_split(X,y, test_size = 0.2, random_state = 0)"
      ],
      "metadata": {
        "id": "h1JuvGGOrHqK"
      },
      "execution_count": null,
      "outputs": []
    },
    {
      "cell_type": "code",
      "source": [
        "# feature scaling\n",
        "from sklearn.preprocessing import StandardScaler\n",
        "sc = StandardScaler()\n",
        "X_train = sc.fit_transform(X_train)\n",
        "X_test =  sc.transform(X_test)"
      ],
      "metadata": {
        "id": "uyBuFqjgsfEx"
      },
      "execution_count": null,
      "outputs": []
    },
    {
      "cell_type": "markdown",
      "source": [
        "#### making the ANN"
      ],
      "metadata": {
        "id": "8XirVAtLs7eM"
      }
    },
    {
      "cell_type": "code",
      "source": [
        "import keras\n",
        "from keras.models import Sequential\n",
        "from keras.layers import Dense\n",
        "from keras.layers import LeakyReLU,PReLU,ELU\n",
        "from keras.layers import Dropout"
      ],
      "metadata": {
        "id": "_1xAXjiXs9UO"
      },
      "execution_count": null,
      "outputs": []
    },
    {
      "cell_type": "code",
      "source": [
        "# initialise\n",
        "classifier = Sequential()\n",
        "\n",
        "classifier.add(Dense(units = 6, kernel_initializer = 'he_uniform', activation = 'relu', input_dim = 11))\n",
        "\n",
        "classifier.add(Dense(units = 6, kernel_initializer = 'he_uniform', activation = 'relu'))\n",
        "classifier.add(Dropout(0.3))\n",
        "\n",
        "classifier.add(Dense(units = 1, kernel_initializer = 'glorot_uniform', activation = 'sigmoid'))\n",
        "\n",
        "# compiling the ANN\n",
        "classifier.compile(optimizer = 'Adamax', loss='binary_crossentropy', metrics = ['accuracy'])\n",
        "\n",
        "# fitting the ANN to training data\n",
        "model_history =  classifier.fit(X_train, y_train, validation_split = 0.33, batch_size=10, epochs = 100)"
      ],
      "metadata": {
        "colab": {
          "base_uri": "https://localhost:8080/"
        },
        "id": "9FRUDMrgtBWj",
        "outputId": "960d36f3-022a-49c6-8fe8-e46e69921ce5"
      },
      "execution_count": null,
      "outputs": [
        {
          "output_type": "stream",
          "name": "stdout",
          "text": [
            "Epoch 1/100\n",
            "536/536 [==============================] - 2s 3ms/step - loss: -80213936.0000 - accuracy: 0.0000e+00 - val_loss: -150023888.0000 - val_accuracy: 0.0000e+00\n",
            "Epoch 2/100\n",
            "536/536 [==============================] - 1s 2ms/step - loss: -267934624.0000 - accuracy: 0.0000e+00 - val_loss: -420245056.0000 - val_accuracy: 0.0000e+00\n",
            "Epoch 3/100\n",
            "536/536 [==============================] - 1s 3ms/step - loss: -641463040.0000 - accuracy: 0.0000e+00 - val_loss: -915589184.0000 - val_accuracy: 0.0000e+00\n",
            "Epoch 4/100\n",
            "536/536 [==============================] - 2s 3ms/step - loss: -1291607552.0000 - accuracy: 0.0000e+00 - val_loss: -1729928064.0000 - val_accuracy: 0.0000e+00\n",
            "Epoch 5/100\n",
            "536/536 [==============================] - 2s 4ms/step - loss: -2323323904.0000 - accuracy: 0.0000e+00 - val_loss: -3011751168.0000 - val_accuracy: 0.0000e+00\n",
            "Epoch 6/100\n",
            "536/536 [==============================] - 2s 3ms/step - loss: -3849811200.0000 - accuracy: 0.0000e+00 - val_loss: -4854915584.0000 - val_accuracy: 0.0000e+00\n",
            "Epoch 7/100\n",
            "536/536 [==============================] - 1s 3ms/step - loss: -6037728256.0000 - accuracy: 0.0000e+00 - val_loss: -7405967360.0000 - val_accuracy: 0.0000e+00\n",
            "Epoch 8/100\n",
            "536/536 [==============================] - 1s 3ms/step - loss: -9009554432.0000 - accuracy: 0.0000e+00 - val_loss: -10804044800.0000 - val_accuracy: 0.0000e+00\n",
            "Epoch 9/100\n",
            "536/536 [==============================] - 1s 2ms/step - loss: -12817463296.0000 - accuracy: 0.0000e+00 - val_loss: -15106226176.0000 - val_accuracy: 0.0000e+00\n",
            "Epoch 10/100\n",
            "536/536 [==============================] - 1s 2ms/step - loss: -17562370048.0000 - accuracy: 0.0000e+00 - val_loss: -20498571264.0000 - val_accuracy: 0.0000e+00\n",
            "Epoch 11/100\n",
            "536/536 [==============================] - 1s 2ms/step - loss: -23595739136.0000 - accuracy: 0.0000e+00 - val_loss: -27210754048.0000 - val_accuracy: 0.0000e+00\n",
            "Epoch 12/100\n",
            "536/536 [==============================] - 1s 3ms/step - loss: -30892404736.0000 - accuracy: 0.0000e+00 - val_loss: -35306528768.0000 - val_accuracy: 0.0000e+00\n",
            "Epoch 13/100\n",
            "536/536 [==============================] - 2s 4ms/step - loss: -39653240832.0000 - accuracy: 0.0000e+00 - val_loss: -44929376256.0000 - val_accuracy: 0.0000e+00\n",
            "Epoch 14/100\n",
            "536/536 [==============================] - 2s 3ms/step - loss: -50393415680.0000 - accuracy: 0.0000e+00 - val_loss: -56204111872.0000 - val_accuracy: 0.0000e+00\n",
            "Epoch 15/100\n",
            "536/536 [==============================] - 1s 2ms/step - loss: -62917742592.0000 - accuracy: 0.0000e+00 - val_loss: -69537710080.0000 - val_accuracy: 0.0000e+00\n",
            "Epoch 16/100\n",
            "536/536 [==============================] - 1s 3ms/step - loss: -76693782528.0000 - accuracy: 0.0000e+00 - val_loss: -84886675456.0000 - val_accuracy: 0.0000e+00\n",
            "Epoch 17/100\n",
            "536/536 [==============================] - 2s 3ms/step - loss: -92190785536.0000 - accuracy: 0.0000e+00 - val_loss: -102161604608.0000 - val_accuracy: 0.0000e+00\n",
            "Epoch 18/100\n",
            "536/536 [==============================] - 1s 2ms/step - loss: -112255836160.0000 - accuracy: 0.0000e+00 - val_loss: -122005995520.0000 - val_accuracy: 0.0000e+00\n",
            "Epoch 19/100\n",
            "536/536 [==============================] - 2s 3ms/step - loss: -132508311552.0000 - accuracy: 0.0000e+00 - val_loss: -144403349504.0000 - val_accuracy: 0.0000e+00\n",
            "Epoch 20/100\n",
            "536/536 [==============================] - 2s 3ms/step - loss: -156828778496.0000 - accuracy: 0.0000e+00 - val_loss: -169606529024.0000 - val_accuracy: 0.0000e+00\n",
            "Epoch 21/100\n",
            "536/536 [==============================] - 2s 4ms/step - loss: -182939942912.0000 - accuracy: 0.0000e+00 - val_loss: -197893718016.0000 - val_accuracy: 0.0000e+00\n",
            "Epoch 22/100\n",
            "536/536 [==============================] - 2s 3ms/step - loss: -212912799744.0000 - accuracy: 0.0000e+00 - val_loss: -229040242688.0000 - val_accuracy: 0.0000e+00\n",
            "Epoch 23/100\n",
            "536/536 [==============================] - 1s 3ms/step - loss: -244814036992.0000 - accuracy: 0.0000e+00 - val_loss: -263109443584.0000 - val_accuracy: 0.0000e+00\n",
            "Epoch 24/100\n",
            "536/536 [==============================] - 1s 2ms/step - loss: -281336774656.0000 - accuracy: 0.0000e+00 - val_loss: -300637356032.0000 - val_accuracy: 0.0000e+00\n",
            "Epoch 25/100\n",
            "536/536 [==============================] - 2s 3ms/step - loss: -319277203456.0000 - accuracy: 0.0000e+00 - val_loss: -341732655104.0000 - val_accuracy: 0.0000e+00\n",
            "Epoch 26/100\n",
            "536/536 [==============================] - 1s 3ms/step - loss: -361028943872.0000 - accuracy: 0.0000e+00 - val_loss: -386565242880.0000 - val_accuracy: 0.0000e+00\n",
            "Epoch 27/100\n",
            "536/536 [==============================] - 2s 3ms/step - loss: -408917016576.0000 - accuracy: 0.0000e+00 - val_loss: -435635421184.0000 - val_accuracy: 0.0000e+00\n",
            "Epoch 28/100\n",
            "536/536 [==============================] - 1s 3ms/step - loss: -463916171264.0000 - accuracy: 0.0000e+00 - val_loss: -489511714816.0000 - val_accuracy: 0.0000e+00\n",
            "Epoch 29/100\n",
            "536/536 [==============================] - 2s 4ms/step - loss: -518437011456.0000 - accuracy: 0.0000e+00 - val_loss: -547029123072.0000 - val_accuracy: 0.0000e+00\n",
            "Epoch 30/100\n",
            "536/536 [==============================] - 2s 4ms/step - loss: -575486492672.0000 - accuracy: 0.0000e+00 - val_loss: -608642203648.0000 - val_accuracy: 0.0000e+00\n",
            "Epoch 31/100\n",
            "536/536 [==============================] - 1s 2ms/step - loss: -647417495552.0000 - accuracy: 0.0000e+00 - val_loss: -676644454400.0000 - val_accuracy: 0.0000e+00\n",
            "Epoch 32/100\n",
            "536/536 [==============================] - 1s 3ms/step - loss: -709269651456.0000 - accuracy: 0.0000e+00 - val_loss: -748965724160.0000 - val_accuracy: 0.0000e+00\n",
            "Epoch 33/100\n",
            "536/536 [==============================] - 1s 2ms/step - loss: -790822649856.0000 - accuracy: 0.0000e+00 - val_loss: -827066875904.0000 - val_accuracy: 0.0000e+00\n",
            "Epoch 34/100\n",
            "536/536 [==============================] - 2s 3ms/step - loss: -875063214080.0000 - accuracy: 0.0000e+00 - val_loss: -911014363136.0000 - val_accuracy: 0.0000e+00\n",
            "Epoch 35/100\n",
            "536/536 [==============================] - 1s 2ms/step - loss: -955864776704.0000 - accuracy: 0.0000e+00 - val_loss: -1000019132416.0000 - val_accuracy: 0.0000e+00\n",
            "Epoch 36/100\n",
            "536/536 [==============================] - 2s 3ms/step - loss: -1045222719488.0000 - accuracy: 0.0000e+00 - val_loss: -1094980534272.0000 - val_accuracy: 0.0000e+00\n",
            "Epoch 37/100\n",
            "536/536 [==============================] - 2s 3ms/step - loss: -1150550147072.0000 - accuracy: 0.0000e+00 - val_loss: -1196679364608.0000 - val_accuracy: 0.0000e+00\n",
            "Epoch 38/100\n",
            "536/536 [==============================] - 2s 4ms/step - loss: -1250785099776.0000 - accuracy: 0.0000e+00 - val_loss: -1304797511680.0000 - val_accuracy: 0.0000e+00\n",
            "Epoch 39/100\n",
            "536/536 [==============================] - 2s 3ms/step - loss: -1362105729024.0000 - accuracy: 0.0000e+00 - val_loss: -1420196708352.0000 - val_accuracy: 0.0000e+00\n",
            "Epoch 40/100\n",
            "536/536 [==============================] - 2s 3ms/step - loss: -1476439441408.0000 - accuracy: 0.0000e+00 - val_loss: -1541057937408.0000 - val_accuracy: 0.0000e+00\n",
            "Epoch 41/100\n",
            "536/536 [==============================] - 2s 3ms/step - loss: -1604414865408.0000 - accuracy: 0.0000e+00 - val_loss: -1668117954560.0000 - val_accuracy: 0.0000e+00\n",
            "Epoch 42/100\n",
            "536/536 [==============================] - 1s 3ms/step - loss: -1719595827200.0000 - accuracy: 0.0000e+00 - val_loss: -1803326586880.0000 - val_accuracy: 0.0000e+00\n",
            "Epoch 43/100\n",
            "536/536 [==============================] - 1s 3ms/step - loss: -1864784150528.0000 - accuracy: 0.0000e+00 - val_loss: -1944944246784.0000 - val_accuracy: 0.0000e+00\n",
            "Epoch 44/100\n",
            "536/536 [==============================] - 1s 3ms/step - loss: -2022063079424.0000 - accuracy: 0.0000e+00 - val_loss: -2093997621248.0000 - val_accuracy: 0.0000e+00\n",
            "Epoch 45/100\n",
            "536/536 [==============================] - 2s 4ms/step - loss: -2172438970368.0000 - accuracy: 0.0000e+00 - val_loss: -2251149017088.0000 - val_accuracy: 0.0000e+00\n",
            "Epoch 46/100\n",
            "536/536 [==============================] - 2s 3ms/step - loss: -2345943171072.0000 - accuracy: 0.0000e+00 - val_loss: -2417197580288.0000 - val_accuracy: 0.0000e+00\n",
            "Epoch 47/100\n",
            "536/536 [==============================] - 1s 3ms/step - loss: -2494975180800.0000 - accuracy: 0.0000e+00 - val_loss: -2590653284352.0000 - val_accuracy: 0.0000e+00\n",
            "Epoch 48/100\n",
            "536/536 [==============================] - 1s 2ms/step - loss: -2676343963648.0000 - accuracy: 0.0000e+00 - val_loss: -2772103069696.0000 - val_accuracy: 0.0000e+00\n",
            "Epoch 49/100\n",
            "536/536 [==============================] - 1s 2ms/step - loss: -2875599880192.0000 - accuracy: 0.0000e+00 - val_loss: -2964866465792.0000 - val_accuracy: 0.0000e+00\n",
            "Epoch 50/100\n",
            "536/536 [==============================] - 1s 2ms/step - loss: -3059365445632.0000 - accuracy: 0.0000e+00 - val_loss: -3165549232128.0000 - val_accuracy: 0.0000e+00\n",
            "Epoch 51/100\n",
            "536/536 [==============================] - 1s 2ms/step - loss: -3285467529216.0000 - accuracy: 0.0000e+00 - val_loss: -3375153283072.0000 - val_accuracy: 0.0000e+00\n",
            "Epoch 52/100\n",
            "536/536 [==============================] - 1s 3ms/step - loss: -3491666591744.0000 - accuracy: 0.0000e+00 - val_loss: -3593901178880.0000 - val_accuracy: 0.0000e+00\n",
            "Epoch 53/100\n",
            "536/536 [==============================] - 2s 4ms/step - loss: -3728410673152.0000 - accuracy: 0.0000e+00 - val_loss: -3822244855808.0000 - val_accuracy: 0.0000e+00\n",
            "Epoch 54/100\n",
            "536/536 [==============================] - 2s 5ms/step - loss: -3938369667072.0000 - accuracy: 0.0000e+00 - val_loss: -4060512780288.0000 - val_accuracy: 0.0000e+00\n",
            "Epoch 55/100\n",
            "536/536 [==============================] - 1s 2ms/step - loss: -4158105845760.0000 - accuracy: 0.0000e+00 - val_loss: -4307354124288.0000 - val_accuracy: 0.0000e+00\n",
            "Epoch 56/100\n",
            "536/536 [==============================] - 2s 3ms/step - loss: -4431686402048.0000 - accuracy: 0.0000e+00 - val_loss: -4566105456640.0000 - val_accuracy: 0.0000e+00\n",
            "Epoch 57/100\n",
            "536/536 [==============================] - 2s 3ms/step - loss: -4665525665792.0000 - accuracy: 0.0000e+00 - val_loss: -4835190505472.0000 - val_accuracy: 0.0000e+00\n",
            "Epoch 58/100\n",
            "536/536 [==============================] - 1s 2ms/step - loss: -4983013507072.0000 - accuracy: 0.0000e+00 - val_loss: -5115319681024.0000 - val_accuracy: 0.0000e+00\n",
            "Epoch 59/100\n",
            "536/536 [==============================] - 2s 3ms/step - loss: -5270325952512.0000 - accuracy: 0.0000e+00 - val_loss: -5406003298304.0000 - val_accuracy: 0.0000e+00\n",
            "Epoch 60/100\n",
            "536/536 [==============================] - 2s 3ms/step - loss: -5538432155648.0000 - accuracy: 0.0000e+00 - val_loss: -5706120953856.0000 - val_accuracy: 0.0000e+00\n",
            "Epoch 61/100\n",
            "536/536 [==============================] - 2s 4ms/step - loss: -5851280048128.0000 - accuracy: 0.0000e+00 - val_loss: -6018731343872.0000 - val_accuracy: 0.0000e+00\n",
            "Epoch 62/100\n",
            "536/536 [==============================] - 2s 3ms/step - loss: -6197932982272.0000 - accuracy: 0.0000e+00 - val_loss: -6345400516608.0000 - val_accuracy: 0.0000e+00\n",
            "Epoch 63/100\n",
            "536/536 [==============================] - 1s 2ms/step - loss: -6540059213824.0000 - accuracy: 0.0000e+00 - val_loss: -6682271285248.0000 - val_accuracy: 0.0000e+00\n",
            "Epoch 64/100\n",
            "536/536 [==============================] - 1s 3ms/step - loss: -6835150520320.0000 - accuracy: 0.0000e+00 - val_loss: -7029512470528.0000 - val_accuracy: 0.0000e+00\n",
            "Epoch 65/100\n",
            "536/536 [==============================] - 1s 2ms/step - loss: -7270341017600.0000 - accuracy: 0.0000e+00 - val_loss: -7391868878848.0000 - val_accuracy: 0.0000e+00\n",
            "Epoch 66/100\n",
            "536/536 [==============================] - 2s 3ms/step - loss: -7559818248192.0000 - accuracy: 0.0000e+00 - val_loss: -7766685515776.0000 - val_accuracy: 0.0000e+00\n",
            "Epoch 67/100\n",
            "536/536 [==============================] - 1s 3ms/step - loss: -7941322178560.0000 - accuracy: 0.0000e+00 - val_loss: -8151296376832.0000 - val_accuracy: 0.0000e+00\n",
            "Epoch 68/100\n",
            "536/536 [==============================] - 1s 3ms/step - loss: -8367165145088.0000 - accuracy: 0.0000e+00 - val_loss: -8550637633536.0000 - val_accuracy: 0.0000e+00\n",
            "Epoch 69/100\n",
            "536/536 [==============================] - 1s 2ms/step - loss: -8731365474304.0000 - accuracy: 0.0000e+00 - val_loss: -8961673658368.0000 - val_accuracy: 0.0000e+00\n",
            "Epoch 70/100\n",
            "536/536 [==============================] - 2s 4ms/step - loss: -9211252572160.0000 - accuracy: 0.0000e+00 - val_loss: -9392687677440.0000 - val_accuracy: 0.0000e+00\n",
            "Epoch 71/100\n",
            "536/536 [==============================] - 2s 3ms/step - loss: -9682984894464.0000 - accuracy: 0.0000e+00 - val_loss: -9839349596160.0000 - val_accuracy: 0.0000e+00\n",
            "Epoch 72/100\n",
            "536/536 [==============================] - 2s 3ms/step - loss: -10133029519360.0000 - accuracy: 0.0000e+00 - val_loss: -10300967354368.0000 - val_accuracy: 0.0000e+00\n",
            "Epoch 73/100\n",
            "536/536 [==============================] - 2s 3ms/step - loss: -10437065179136.0000 - accuracy: 0.0000e+00 - val_loss: -10763709186048.0000 - val_accuracy: 0.0000e+00\n",
            "Epoch 74/100\n",
            "536/536 [==============================] - 2s 3ms/step - loss: -10949226397696.0000 - accuracy: 0.0000e+00 - val_loss: -11247134179328.0000 - val_accuracy: 0.0000e+00\n",
            "Epoch 75/100\n",
            "536/536 [==============================] - 1s 3ms/step - loss: -11494423003136.0000 - accuracy: 0.0000e+00 - val_loss: -11747761061888.0000 - val_accuracy: 0.0000e+00\n",
            "Epoch 76/100\n",
            "536/536 [==============================] - 1s 3ms/step - loss: -12001067663360.0000 - accuracy: 0.0000e+00 - val_loss: -12262905479168.0000 - val_accuracy: 0.0000e+00\n",
            "Epoch 77/100\n",
            "536/536 [==============================] - 2s 3ms/step - loss: -12497377558528.0000 - accuracy: 0.0000e+00 - val_loss: -12788109934592.0000 - val_accuracy: 0.0000e+00\n",
            "Epoch 78/100\n",
            "536/536 [==============================] - 2s 4ms/step - loss: -13104014426112.0000 - accuracy: 0.0000e+00 - val_loss: -13331957022720.0000 - val_accuracy: 0.0000e+00\n",
            "Epoch 79/100\n",
            "536/536 [==============================] - 1s 3ms/step - loss: -13559767498752.0000 - accuracy: 0.0000e+00 - val_loss: -13884722249728.0000 - val_accuracy: 0.0000e+00\n",
            "Epoch 80/100\n",
            "536/536 [==============================] - 2s 3ms/step - loss: -14198610329600.0000 - accuracy: 0.0000e+00 - val_loss: -14456092360704.0000 - val_accuracy: 0.0000e+00\n",
            "Epoch 81/100\n",
            "536/536 [==============================] - 2s 3ms/step - loss: -14807266754560.0000 - accuracy: 0.0000e+00 - val_loss: -15049122906112.0000 - val_accuracy: 0.0000e+00\n",
            "Epoch 82/100\n",
            "536/536 [==============================] - 1s 3ms/step - loss: -15329729183744.0000 - accuracy: 0.0000e+00 - val_loss: -15648668254208.0000 - val_accuracy: 0.0000e+00\n",
            "Epoch 83/100\n",
            "536/536 [==============================] - 1s 3ms/step - loss: -15986325454848.0000 - accuracy: 0.0000e+00 - val_loss: -16272893935616.0000 - val_accuracy: 0.0000e+00\n",
            "Epoch 84/100\n",
            "536/536 [==============================] - 2s 3ms/step - loss: -16624389193728.0000 - accuracy: 0.0000e+00 - val_loss: -16918035562496.0000 - val_accuracy: 0.0000e+00\n",
            "Epoch 85/100\n",
            "536/536 [==============================] - 2s 4ms/step - loss: -17323532484608.0000 - accuracy: 0.0000e+00 - val_loss: -17575437139968.0000 - val_accuracy: 0.0000e+00\n",
            "Epoch 86/100\n",
            "536/536 [==============================] - 2s 4ms/step - loss: -17871184855040.0000 - accuracy: 0.0000e+00 - val_loss: -18252239470592.0000 - val_accuracy: 0.0000e+00\n",
            "Epoch 87/100\n",
            "536/536 [==============================] - 1s 3ms/step - loss: -18587603435520.0000 - accuracy: 0.0000e+00 - val_loss: -18936332550144.0000 - val_accuracy: 0.0000e+00\n",
            "Epoch 88/100\n",
            "536/536 [==============================] - 1s 2ms/step - loss: -19230086922240.0000 - accuracy: 0.0000e+00 - val_loss: -19646669389824.0000 - val_accuracy: 0.0000e+00\n",
            "Epoch 89/100\n",
            "536/536 [==============================] - 1s 2ms/step - loss: -20092922363904.0000 - accuracy: 0.0000e+00 - val_loss: -20375230480384.0000 - val_accuracy: 0.0000e+00\n",
            "Epoch 90/100\n",
            "536/536 [==============================] - 1s 2ms/step - loss: -20779997593600.0000 - accuracy: 0.0000e+00 - val_loss: -21122842099712.0000 - val_accuracy: 0.0000e+00\n",
            "Epoch 91/100\n",
            "536/536 [==============================] - 2s 3ms/step - loss: -21424647438336.0000 - accuracy: 0.0000e+00 - val_loss: -21887402901504.0000 - val_accuracy: 0.0000e+00\n",
            "Epoch 92/100\n",
            "536/536 [==============================] - 2s 3ms/step - loss: -22274872705024.0000 - accuracy: 0.0000e+00 - val_loss: -22675862847488.0000 - val_accuracy: 0.0000e+00\n",
            "Epoch 93/100\n",
            "536/536 [==============================] - 2s 3ms/step - loss: -23213799112704.0000 - accuracy: 0.0000e+00 - val_loss: -23484558213120.0000 - val_accuracy: 0.0000e+00\n",
            "Epoch 94/100\n",
            "536/536 [==============================] - 2s 4ms/step - loss: -23827239141376.0000 - accuracy: 0.0000e+00 - val_loss: -24308676034560.0000 - val_accuracy: 0.0000e+00\n",
            "Epoch 95/100\n",
            "536/536 [==============================] - 1s 3ms/step - loss: -24736392282112.0000 - accuracy: 0.0000e+00 - val_loss: -25151221530624.0000 - val_accuracy: 0.0000e+00\n",
            "Epoch 96/100\n",
            "536/536 [==============================] - 1s 2ms/step - loss: -25527773560832.0000 - accuracy: 0.0000e+00 - val_loss: -26014574968832.0000 - val_accuracy: 0.0000e+00\n",
            "Epoch 97/100\n",
            "536/536 [==============================] - 1s 2ms/step - loss: -26427812478976.0000 - accuracy: 0.0000e+00 - val_loss: -26895571746816.0000 - val_accuracy: 0.0000e+00\n",
            "Epoch 98/100\n",
            "536/536 [==============================] - 1s 3ms/step - loss: -27368336916480.0000 - accuracy: 0.0000e+00 - val_loss: -27802015367168.0000 - val_accuracy: 0.0000e+00\n",
            "Epoch 99/100\n",
            "536/536 [==============================] - 2s 3ms/step - loss: -28277215330304.0000 - accuracy: 0.0000e+00 - val_loss: -28726374957056.0000 - val_accuracy: 0.0000e+00\n",
            "Epoch 100/100\n",
            "536/536 [==============================] - 1s 2ms/step - loss: -29216085114880.0000 - accuracy: 0.0000e+00 - val_loss: -29666651930624.0000 - val_accuracy: 0.0000e+00\n"
          ]
        }
      ]
    },
    {
      "cell_type": "code",
      "source": [
        "# list all data in history\n",
        "print(model_history.history.keys())"
      ],
      "metadata": {
        "colab": {
          "base_uri": "https://localhost:8080/"
        },
        "id": "J4ChgMUlvPHH",
        "outputId": "6356a0b4-dfbd-4451-9c7a-a6414c1da879"
      },
      "execution_count": null,
      "outputs": [
        {
          "output_type": "stream",
          "name": "stdout",
          "text": [
            "dict_keys(['loss', 'accuracy', 'val_loss', 'val_accuracy'])\n"
          ]
        }
      ]
    },
    {
      "cell_type": "code",
      "source": [
        "# summarize history for accuracy\n",
        "plt.plot(model_history.history['accuracy'])\n",
        "plt.plot(model_history.history['val_accuracy'])\n",
        "plt.title('model accuracy')\n",
        "plt.ylabel('accuracy')\n",
        "plt.xlabel('epoch')\n",
        "plt.legend(['train', 'test'], loc='upper left')\n",
        "plt.show()"
      ],
      "metadata": {
        "colab": {
          "base_uri": "https://localhost:8080/",
          "height": 295
        },
        "id": "EnD3DmwtvZA2",
        "outputId": "396afc97-9be2-4878-d27f-64542009cebb"
      },
      "execution_count": null,
      "outputs": [
        {
          "output_type": "display_data",
          "data": {
            "text/plain": [
              "<Figure size 432x288 with 1 Axes>"
            ],
            "image/png": "[encoded data removed]"
          },
          "metadata": {
            "needs_background": "light"
          }
        }
      ]
    },
    {
      "cell_type": "code",
      "source": [
        "# summarize history for loss\n",
        "plt.plot(model_history.history['loss'])\n",
        "plt.plot(model_history.history['val_loss'])\n",
        "plt.title('model loss')\n",
        "plt.ylabel('loss')\n",
        "plt.xlabel('epoch')\n",
        "plt.legend(['train', 'test'], loc='upper left')\n",
        "plt.show()"
      ],
      "metadata": {
        "colab": {
          "base_uri": "https://localhost:8080/",
          "height": 295
        },
        "id": "xpFTASKjvZd3",
        "outputId": "e0b2b539-3161-4097-e091-81ea2e9a06a3"
      },
      "execution_count": null,
      "outputs": [
        {
          "output_type": "display_data",
          "data": {
            "text/plain": [
              "<Figure size 432x288 with 1 Axes>"
            ],
            "image/png": "[encoded data removed]"
          },
          "metadata": {
            "needs_background": "light"
          }
        }
      ]
    },
    {
      "cell_type": "markdown",
      "source": [
        "#### predicting the results and evaluating the model"
      ],
      "metadata": {
        "id": "3fD_jVWGvnvs"
      }
    },
    {
      "cell_type": "code",
      "source": [
        "y_pred = classifier.predict(X_test)\n",
        "y_pred = (y_pred>0.5)"
      ],
      "metadata": {
        "colab": {
          "base_uri": "https://localhost:8080/"
        },
        "id": "1RfxqMa4vfmy",
        "outputId": "5be811c9-c75f-48a0-f6b1-2d7abd20395a"
      },
      "execution_count": null,
      "outputs": [
        {
          "output_type": "stream",
          "name": "stdout",
          "text": [
            "63/63 [==============================] - 0s 1ms/step\n"
          ]
        }
      ]
    },
    {
      "cell_type": "code",
      "source": [
        "from sklearn.metrics import confusion_matrix\n",
        "cm =  confusion_matrix(y_test, y_pred)"
      ],
      "metadata": {
        "id": "4jZFvW7wv7hK"
      },
      "execution_count": null,
      "outputs": []
    },
    {
      "cell_type": "code",
      "source": [
        "from sklearn.metrics import accuracy_score\n",
        "acc =  accuracy_score(y_test, y_pred)"
      ],
      "metadata": {
        "id": "u894i69twI9N"
      },
      "execution_count": null,
      "outputs": []
    },
    {
      "cell_type": "code",
      "source": [
        "print(cm)\n",
        "print(acc)"
      ],
      "metadata": {
        "colab": {
          "base_uri": "https://localhost:8080/"
        },
        "id": "j0NpXBlNyjVe",
        "outputId": "cc1d4121-7e20-4cfc-8f8d-b3d835c3850a"
      },
      "execution_count": null,
      "outputs": [
        {
          "output_type": "stream",
          "name": "stdout",
          "text": [
            "[[0 0 0 ... 0 0 0]\n",
            " [1 0 0 ... 0 0 0]\n",
            " [1 0 0 ... 0 0 0]\n",
            " ...\n",
            " [1 0 0 ... 0 0 0]\n",
            " [1 0 0 ... 0 0 0]\n",
            " [1 0 0 ... 0 0 0]]\n",
            "0.0\n"
          ]
        }
      ]
    }
  ]
}